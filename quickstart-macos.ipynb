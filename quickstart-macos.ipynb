{
 "cells": [
  {
   "cell_type": "code",
   "execution_count": 1,
   "id": "7b96c297-fd95-411a-a649-1a1638f8b439",
   "metadata": {},
   "outputs": [
    {
     "name": "stdout",
     "output_type": "stream",
     "text": [
      "3.8.5 (default, Jul 21 2020, 10:48:26) \n",
      "[Clang 11.0.3 (clang-1103.0.32.62)]\n"
     ]
    }
   ],
   "source": [
    "import sys\n",
    "print(sys.version)"
   ]
  },
  {
   "cell_type": "markdown",
   "id": "242c9d7e-4260-4375-b120-b69d57dae8d5",
   "metadata": {},
   "source": [
    "https://coral.ai/docs/edgetpu/tflite-python/#inferencing-example\n",
    "\n",
    "To download the required files see https://github.com/google-coral/tflite/blob/master/python/examples/classification/install_requirements.sh"
   ]
  },
  {
   "cell_type": "code",
   "execution_count": 4,
   "id": "8492e7ce-d8d9-49ae-96eb-1b585283b1d3",
   "metadata": {},
   "outputs": [],
   "source": [
    "# !pip freeze\n",
    "\n",
    "# crucially pycoral==2.0.0"
   ]
  },
  {
   "cell_type": "code",
   "execution_count": 3,
   "id": "84fed485-c8a1-4ef0-a57e-bfdaf6ef8466",
   "metadata": {},
   "outputs": [],
   "source": [
    "import os\n",
    "import pathlib\n",
    "from pycoral.utils import edgetpu\n",
    "from pycoral.utils import dataset\n",
    "from pycoral.adapters import common\n",
    "from pycoral.adapters import classify\n",
    "from PIL import Image"
   ]
  },
  {
   "cell_type": "markdown",
   "id": "933b05e1-1ef2-45a4-84c3-0db94cf892d9",
   "metadata": {},
   "source": [
    "Created https://github.com/google-coral/pycoral/issues/35"
   ]
  },
  {
   "cell_type": "code",
   "execution_count": 5,
   "id": "0a0c60cb-9093-4bb7-947d-66465c267171",
   "metadata": {},
   "outputs": [],
   "source": [
    "model_file = os.path.join('models', 'mobilenet_v2_1.0_224_quant_edgetpu.tflite')\n",
    "label_file = os.path.join('models', 'imagenet_labels.txt')\n",
    "image_file = os.path.join('images', 'parrot.jpg')"
   ]
  },
  {
   "cell_type": "code",
   "execution_count": null,
   "id": "7f1b416d-8a63-4ea5-bfe9-075dd87328e6",
   "metadata": {},
   "outputs": [],
   "source": [
    "# Initialize the TF interpreter\n",
    "interpreter = edgetpu.make_interpreter(model_file)\n",
    "interpreter.allocate_tensors()"
   ]
  },
  {
   "cell_type": "code",
   "execution_count": null,
   "id": "167548f9-4e7d-48bf-a111-8de56685b401",
   "metadata": {},
   "outputs": [],
   "source": [
    "# Resize the image\n",
    "size = common.input_size(interpreter)\n",
    "image = Image.open(image_file).convert('RGB').resize(size, Image.ANTIALIAS)\n",
    "\n",
    "# Run an inference\n",
    "common.set_input(interpreter, image)\n",
    "interpreter.invoke()\n",
    "classes = classify.get_classes(interpreter, top_k=1)\n",
    "\n",
    "# Print the result\n",
    "labels = dataset.read_label_file(label_file)\n",
    "for c in classes:\n",
    "  print('%s: %.5f' % (labels.get(c.id, c.id), c.score))"
   ]
  }
 ],
 "metadata": {
  "kernelspec": {
   "display_name": "Python 3 (ipykernel)",
   "language": "python",
   "name": "python3"
  },
  "language_info": {
   "codemirror_mode": {
    "name": "ipython",
    "version": 3
   },
   "file_extension": ".py",
   "mimetype": "text/x-python",
   "name": "python",
   "nbconvert_exporter": "python",
   "pygments_lexer": "ipython3",
   "version": "3.8.5"
  }
 },
 "nbformat": 4,
 "nbformat_minor": 5
}
