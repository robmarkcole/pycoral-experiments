{
 "cells": [
  {
   "cell_type": "code",
   "execution_count": 1,
   "id": "7b96c297-fd95-411a-a649-1a1638f8b439",
   "metadata": {},
   "outputs": [
    {
     "name": "stdout",
     "output_type": "stream",
     "text": [
      "3.8.5 (default, Jul 21 2020, 10:48:26) \n",
      "[Clang 11.0.3 (clang-1103.0.32.62)]\n"
     ]
    }
   ],
   "source": [
    "import sys\n",
    "print(sys.version)"
   ]
  },
  {
   "cell_type": "markdown",
   "id": "242c9d7e-4260-4375-b120-b69d57dae8d5",
   "metadata": {},
   "source": [
    "https://coral.ai/docs/edgetpu/tflite-python/#inferencing-example"
   ]
  },
  {
   "cell_type": "code",
   "execution_count": 2,
   "id": "8492e7ce-d8d9-49ae-96eb-1b585283b1d3",
   "metadata": {},
   "outputs": [
    {
     "name": "stdout",
     "output_type": "stream",
     "text": [
      "anyio==3.3.0\n",
      "appnope==0.1.2\n",
      "argon2-cffi==20.1.0\n",
      "async-generator==1.10\n",
      "attrs==21.2.0\n",
      "Babel==2.9.1\n",
      "backcall==0.2.0\n",
      "bleach==3.3.1\n",
      "certifi==2021.5.30\n",
      "cffi==1.14.6\n",
      "charset-normalizer==2.0.4\n",
      "cycler==0.10.0\n",
      "debugpy==1.4.1\n",
      "decorator==5.0.9\n",
      "defusedxml==0.7.1\n",
      "entrypoints==0.3\n",
      "idna==3.2\n",
      "ipykernel==6.0.3\n",
      "ipython==7.25.0\n",
      "ipython-genutils==0.2.0\n",
      "jedi==0.18.0\n",
      "Jinja2==3.0.1\n",
      "json5==0.9.6\n",
      "jsonschema==3.2.0\n",
      "jupyter-client==6.1.12\n",
      "jupyter-core==4.7.1\n",
      "jupyter-server==1.10.1\n",
      "jupyterlab==3.1.1\n",
      "jupyterlab-pygments==0.1.2\n",
      "jupyterlab-server==2.6.1\n",
      "kiwisolver==1.3.1\n",
      "MarkupSafe==2.0.1\n",
      "matplotlib==3.4.2\n",
      "matplotlib-inline==0.1.2\n",
      "mistune==0.8.4\n",
      "nbclassic==0.3.1\n",
      "nbclient==0.5.3\n",
      "nbconvert==6.1.0\n",
      "nbformat==5.1.3\n",
      "nest-asyncio==1.5.1\n",
      "notebook==6.4.0\n",
      "numpy==1.21.1\n",
      "packaging==21.0\n",
      "pandas==1.3.1\n",
      "pandocfilters==1.4.3\n",
      "parso==0.8.2\n",
      "pexpect==4.8.0\n",
      "pickleshare==0.7.5\n",
      "Pillow==8.3.1\n",
      "prometheus-client==0.11.0\n",
      "prompt-toolkit==3.0.19\n",
      "psutil==5.8.0\n",
      "ptyprocess==0.7.0\n",
      "pycoral==2.0.0\n",
      "pycparser==2.20\n",
      "Pygments==2.9.0\n",
      "pyparsing==2.4.7\n",
      "pyrsistent==0.18.0\n",
      "python-dateutil==2.8.2\n",
      "pytz==2021.1\n",
      "pyzmq==22.1.0\n",
      "requests==2.26.0\n",
      "requests-unixsocket==0.2.0\n",
      "Send2Trash==1.7.1\n",
      "six==1.16.0\n",
      "sniffio==1.2.0\n",
      "terminado==0.10.1\n",
      "testpath==0.5.0\n",
      "tflite-runtime==2.5.0.post1\n",
      "tornado==6.1\n",
      "traitlets==5.0.5\n",
      "urllib3==1.26.6\n",
      "wcwidth==0.2.5\n",
      "webencodings==0.5.1\n",
      "websocket-client==1.1.0\n"
     ]
    }
   ],
   "source": [
    "!pip freeze"
   ]
  },
  {
   "cell_type": "code",
   "execution_count": 3,
   "id": "84fed485-c8a1-4ef0-a57e-bfdaf6ef8466",
   "metadata": {},
   "outputs": [],
   "source": [
    "import os\n",
    "import pathlib\n",
    "from pycoral.utils import edgetpu\n",
    "from pycoral.utils import dataset\n",
    "from pycoral.adapters import common\n",
    "from pycoral.adapters import classify\n",
    "from PIL import Image"
   ]
  },
  {
   "cell_type": "markdown",
   "id": "933b05e1-1ef2-45a4-84c3-0db94cf892d9",
   "metadata": {},
   "source": [
    "Created https://github.com/google-coral/pycoral/issues/35"
   ]
  },
  {
   "cell_type": "code",
   "execution_count": null,
   "id": "0a0c60cb-9093-4bb7-947d-66465c267171",
   "metadata": {},
   "outputs": [],
   "source": []
  }
 ],
 "metadata": {
  "kernelspec": {
   "display_name": "Python 3 (ipykernel)",
   "language": "python",
   "name": "python3"
  },
  "language_info": {
   "codemirror_mode": {
    "name": "ipython",
    "version": 3
   },
   "file_extension": ".py",
   "mimetype": "text/x-python",
   "name": "python",
   "nbconvert_exporter": "python",
   "pygments_lexer": "ipython3",
   "version": "3.8.5"
  }
 },
 "nbformat": 4,
 "nbformat_minor": 5
}
