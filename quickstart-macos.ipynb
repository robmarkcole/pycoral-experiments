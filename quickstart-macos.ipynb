{
 "cells": [
  {
   "cell_type": "code",
   "execution_count": 4,
   "id": "c109e75a-29e1-4a72-a85c-db21fc8cdd60",
   "metadata": {},
   "outputs": [
    {
     "data": {
      "text/plain": [
       "{'platform': 'Darwin',\n",
       " 'platform-release': '20.5.0',\n",
       " 'platform-version': 'Darwin Kernel Version 20.5.0: Sat May  8 05:10:33 PDT 2021; root:xnu-7195.121.3~9/RELEASE_X86_64',\n",
       " 'architecture': 'x86_64',\n",
       " 'processor': 'i386',\n",
       " 'ram': '8 GB'}"
      ]
     },
     "execution_count": 4,
     "metadata": {},
     "output_type": "execute_result"
    }
   ],
   "source": [
    "import platform,socket,re,uuid,json,psutil,logging\n",
    "\n",
    "def getSystemInfo():\n",
    "    try:\n",
    "        info={}\n",
    "        info['platform']=platform.system()\n",
    "        info['platform-release']=platform.release()\n",
    "        info['platform-version']=platform.version()\n",
    "        info['architecture']=platform.machine()\n",
    "        info['processor']=platform.processor()\n",
    "        info['ram']=str(round(psutil.virtual_memory().total / (1024.0 **3)))+\" GB\"\n",
    "        return json.dumps(info)\n",
    "    except Exception as e:\n",
    "        logging.exception(e)\n",
    "\n",
    "json.loads(getSystemInfo())"
   ]
  },
  {
   "cell_type": "code",
   "execution_count": 6,
   "id": "7b96c297-fd95-411a-a649-1a1638f8b439",
   "metadata": {},
   "outputs": [
    {
     "name": "stdout",
     "output_type": "stream",
     "text": [
      "3.8.5 (default, Jul 21 2020, 10:48:26) \n",
      "[Clang 11.0.3 (clang-1103.0.32.62)]\n"
     ]
    }
   ],
   "source": [
    "import sys\n",
    "print(sys.version)"
   ]
  },
  {
   "cell_type": "markdown",
   "id": "242c9d7e-4260-4375-b120-b69d57dae8d5",
   "metadata": {},
   "source": [
    "https://coral.ai/docs/edgetpu/tflite-python/#inferencing-example"
   ]
  },
  {
   "cell_type": "code",
   "execution_count": 5,
   "id": "84fed485-c8a1-4ef0-a57e-bfdaf6ef8466",
   "metadata": {},
   "outputs": [
    {
     "ename": "ImportError",
     "evalue": "dlopen(/Users/robin/Github/pycoral-experiments/venv/lib/python3.8/site-packages/pycoral/pybind/_pywrap_coral.cpython-38-darwin.so, 2): Library not loaded: @rpath/libedgetpu.1.dylib\n  Referenced from: /Users/robin/Github/pycoral-experiments/venv/lib/python3.8/site-packages/pycoral/pybind/_pywrap_coral.cpython-38-darwin.so\n  Reason: image not found",
     "output_type": "error",
     "traceback": [
      "\u001b[0;31m---------------------------------------------------------------------------\u001b[0m",
      "\u001b[0;31mImportError\u001b[0m                               Traceback (most recent call last)",
      "\u001b[0;32m/var/folders/th/p79ctr092t9c_795pyl79n6c0000gn/T/ipykernel_57210/2178927620.py\u001b[0m in \u001b[0;36m<module>\u001b[0;34m\u001b[0m\n\u001b[1;32m      1\u001b[0m \u001b[0;32mimport\u001b[0m \u001b[0mos\u001b[0m\u001b[0;34m\u001b[0m\u001b[0;34m\u001b[0m\u001b[0m\n\u001b[1;32m      2\u001b[0m \u001b[0;32mimport\u001b[0m \u001b[0mpathlib\u001b[0m\u001b[0;34m\u001b[0m\u001b[0;34m\u001b[0m\u001b[0m\n\u001b[0;32m----> 3\u001b[0;31m \u001b[0;32mfrom\u001b[0m \u001b[0mpycoral\u001b[0m\u001b[0;34m.\u001b[0m\u001b[0mutils\u001b[0m \u001b[0;32mimport\u001b[0m \u001b[0medgetpu\u001b[0m\u001b[0;34m\u001b[0m\u001b[0;34m\u001b[0m\u001b[0m\n\u001b[0m\u001b[1;32m      4\u001b[0m \u001b[0;32mfrom\u001b[0m \u001b[0mpycoral\u001b[0m\u001b[0;34m.\u001b[0m\u001b[0mutils\u001b[0m \u001b[0;32mimport\u001b[0m \u001b[0mdataset\u001b[0m\u001b[0;34m\u001b[0m\u001b[0;34m\u001b[0m\u001b[0m\n\u001b[1;32m      5\u001b[0m \u001b[0;32mfrom\u001b[0m \u001b[0mpycoral\u001b[0m\u001b[0;34m.\u001b[0m\u001b[0madapters\u001b[0m \u001b[0;32mimport\u001b[0m \u001b[0mcommon\u001b[0m\u001b[0;34m\u001b[0m\u001b[0;34m\u001b[0m\u001b[0m\n",
      "\u001b[0;32m~/Github/pycoral-experiments/venv/lib/python3.8/site-packages/pycoral/utils/edgetpu.py\u001b[0m in \u001b[0;36m<module>\u001b[0;34m\u001b[0m\n\u001b[1;32m     22\u001b[0m \u001b[0;34m\u001b[0m\u001b[0m\n\u001b[1;32m     23\u001b[0m \u001b[0;31m# pylint:disable=unused-import\u001b[0m\u001b[0;34m\u001b[0m\u001b[0;34m\u001b[0m\u001b[0;34m\u001b[0m\u001b[0m\n\u001b[0;32m---> 24\u001b[0;31m \u001b[0;32mfrom\u001b[0m \u001b[0mpycoral\u001b[0m\u001b[0;34m.\u001b[0m\u001b[0mpybind\u001b[0m\u001b[0;34m.\u001b[0m\u001b[0m_pywrap_coral\u001b[0m \u001b[0;32mimport\u001b[0m \u001b[0mGetRuntimeVersion\u001b[0m \u001b[0;32mas\u001b[0m \u001b[0mget_runtime_version\u001b[0m\u001b[0;34m\u001b[0m\u001b[0;34m\u001b[0m\u001b[0m\n\u001b[0m\u001b[1;32m     25\u001b[0m \u001b[0;32mfrom\u001b[0m \u001b[0mpycoral\u001b[0m\u001b[0;34m.\u001b[0m\u001b[0mpybind\u001b[0m\u001b[0;34m.\u001b[0m\u001b[0m_pywrap_coral\u001b[0m \u001b[0;32mimport\u001b[0m \u001b[0mInvokeWithBytes\u001b[0m \u001b[0;32mas\u001b[0m \u001b[0minvoke_with_bytes\u001b[0m\u001b[0;34m\u001b[0m\u001b[0;34m\u001b[0m\u001b[0m\n\u001b[1;32m     26\u001b[0m \u001b[0;32mfrom\u001b[0m \u001b[0mpycoral\u001b[0m\u001b[0;34m.\u001b[0m\u001b[0mpybind\u001b[0m\u001b[0;34m.\u001b[0m\u001b[0m_pywrap_coral\u001b[0m \u001b[0;32mimport\u001b[0m \u001b[0mInvokeWithDmaBuffer\u001b[0m \u001b[0;32mas\u001b[0m \u001b[0minvoke_with_dmabuffer\u001b[0m\u001b[0;34m\u001b[0m\u001b[0;34m\u001b[0m\u001b[0m\n",
      "\u001b[0;31mImportError\u001b[0m: dlopen(/Users/robin/Github/pycoral-experiments/venv/lib/python3.8/site-packages/pycoral/pybind/_pywrap_coral.cpython-38-darwin.so, 2): Library not loaded: @rpath/libedgetpu.1.dylib\n  Referenced from: /Users/robin/Github/pycoral-experiments/venv/lib/python3.8/site-packages/pycoral/pybind/_pywrap_coral.cpython-38-darwin.so\n  Reason: image not found"
     ]
    }
   ],
   "source": [
    "import os\n",
    "import pathlib\n",
    "from pycoral.utils import edgetpu\n",
    "from pycoral.utils import dataset\n",
    "from pycoral.adapters import common\n",
    "from pycoral.adapters import classify\n",
    "from PIL import Image"
   ]
  },
  {
   "cell_type": "code",
   "execution_count": null,
   "id": "15fcc8a5-76c9-49b7-a78f-670dc2d16313",
   "metadata": {},
   "outputs": [],
   "source": []
  }
 ],
 "metadata": {
  "kernelspec": {
   "display_name": "Python 3 (ipykernel)",
   "language": "python",
   "name": "python3"
  },
  "language_info": {
   "codemirror_mode": {
    "name": "ipython",
    "version": 3
   },
   "file_extension": ".py",
   "mimetype": "text/x-python",
   "name": "python",
   "nbconvert_exporter": "python",
   "pygments_lexer": "ipython3",
   "version": "3.8.5"
  }
 },
 "nbformat": 4,
 "nbformat_minor": 5
}
