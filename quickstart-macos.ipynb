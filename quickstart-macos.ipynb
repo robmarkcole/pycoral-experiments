{
 "cells": [
  {
   "cell_type": "code",
   "execution_count": 1,
   "id": "7b96c297-fd95-411a-a649-1a1638f8b439",
   "metadata": {},
   "outputs": [
    {
     "name": "stdout",
     "output_type": "stream",
     "text": [
      "3.8.5 (default, Jul 21 2020, 10:48:26) \n",
      "[Clang 11.0.3 (clang-1103.0.32.62)]\n"
     ]
    }
   ],
   "source": [
    "import sys\n",
    "print(sys.version)"
   ]
  },
  {
   "cell_type": "code",
   "execution_count": 2,
   "id": "058071b1-4eb5-44f0-9b77-81903cfc05c6",
   "metadata": {},
   "outputs": [
    {
     "name": "stdout",
     "output_type": "stream",
     "text": [
      "\u001b[34m\u001b[43m/dev/cu.Bluedio-BluetoothSerial\u001b[m\u001b[m \u001b[34m\u001b[43m/dev/cu.RobinsiPhone6-Wirelessi\u001b[m\u001b[m\n",
      "\u001b[34m\u001b[43m/dev/cu.Bluetooth-Incoming-Port\u001b[m\u001b[m\n"
     ]
    }
   ],
   "source": [
    "!ls /dev/cu*"
   ]
  },
  {
   "cell_type": "code",
   "execution_count": 3,
   "id": "4d747a28-e3cc-40f9-8ea2-df994ddd100b",
   "metadata": {},
   "outputs": [
    {
     "name": "stdout",
     "output_type": "stream",
     "text": [
      "/usr/local/lib/libedgetpu.1.dylib:\n",
      "\t/usr/local/lib/libedgetpu.1.dylib (compatibility version 0.0.0, current version 0.0.0)\n",
      "\t/usr/lib/libc++.1.dylib (compatibility version 1.0.0, current version 905.6.0)\n",
      "\t/usr/local/lib/libusb-1.0.0.dylib (compatibility version 4.0.0, current version 4.0.0)\n",
      "\t/System/Library/Frameworks/Foundation.framework/Versions/C/Foundation (compatibility version 300.0.0, current version 1775.118.101)\n",
      "\t/usr/lib/libobjc.A.dylib (compatibility version 1.0.0, current version 228.0.0)\n",
      "\t/usr/lib/libSystem.B.dylib (compatibility version 1.0.0, current version 1292.100.5)\n",
      "\t/System/Library/Frameworks/CoreFoundation.framework/Versions/A/CoreFoundation (compatibility version 150.0.0, current version 1775.118.101)\n"
     ]
    }
   ],
   "source": [
    "!otool -L /usr/local/lib/libedgetpu.1.dylib"
   ]
  },
  {
   "cell_type": "markdown",
   "id": "242c9d7e-4260-4375-b120-b69d57dae8d5",
   "metadata": {},
   "source": [
    "https://coral.ai/docs/edgetpu/tflite-python/#inferencing-example\n",
    "\n",
    "To download the required files see https://github.com/google-coral/tflite/blob/master/python/examples/classification/install_requirements.sh"
   ]
  },
  {
   "cell_type": "code",
   "execution_count": 4,
   "id": "8492e7ce-d8d9-49ae-96eb-1b585283b1d3",
   "metadata": {},
   "outputs": [],
   "source": [
    "# !pip freeze\n",
    "\n",
    "# crucially pycoral==2.0.0"
   ]
  },
  {
   "cell_type": "code",
   "execution_count": 5,
   "id": "84fed485-c8a1-4ef0-a57e-bfdaf6ef8466",
   "metadata": {},
   "outputs": [],
   "source": [
    "import os\n",
    "import pathlib\n",
    "from pycoral.utils import edgetpu\n",
    "from pycoral.utils import dataset\n",
    "from pycoral.adapters import common\n",
    "from pycoral.adapters import classify\n",
    "from PIL import Image"
   ]
  },
  {
   "cell_type": "markdown",
   "id": "933b05e1-1ef2-45a4-84c3-0db94cf892d9",
   "metadata": {},
   "source": [
    "Created https://github.com/google-coral/pycoral/issues/35"
   ]
  },
  {
   "cell_type": "code",
   "execution_count": 6,
   "id": "0a0c60cb-9093-4bb7-947d-66465c267171",
   "metadata": {},
   "outputs": [
    {
     "name": "stdout",
     "output_type": "stream",
     "text": [
      "True\n",
      "True\n",
      "True\n"
     ]
    }
   ],
   "source": [
    "model_file = os.path.join('models', 'mobilenet_v2_1.0_224_inat_bird_quant_edgetpu.tflite')\n",
    "# model_file = os.path.join('models', 'mobilenet_v2_1.0_224_inat_bird_quant.tflite')\n",
    "print(os.path.isfile(model_file))\n",
    "\n",
    "label_file = os.path.join('models', 'inat_bird_labels.txt')\n",
    "print(os.path.isfile(label_file))\n",
    "\n",
    "image_file = os.path.join('images', 'parrot.jpg')\n",
    "print(os.path.isfile(image_file))"
   ]
  },
  {
   "cell_type": "code",
   "execution_count": 7,
   "id": "7f1b416d-8a63-4ea5-bfe9-075dd87328e6",
   "metadata": {},
   "outputs": [
    {
     "ename": "ValueError",
     "evalue": "Failed to load delegate from libedgetpu.1.dylib\n",
     "output_type": "error",
     "traceback": [
      "\u001b[0;31m---------------------------------------------------------------------------\u001b[0m",
      "\u001b[0;31mValueError\u001b[0m                                Traceback (most recent call last)",
      "\u001b[0;32m~/Github/pycoral-experiments/venv/lib/python3.8/site-packages/tflite_runtime/interpreter.py\u001b[0m in \u001b[0;36mload_delegate\u001b[0;34m(library, options)\u001b[0m\n\u001b[1;32m    159\u001b[0m   \u001b[0;32mtry\u001b[0m\u001b[0;34m:\u001b[0m\u001b[0;34m\u001b[0m\u001b[0;34m\u001b[0m\u001b[0m\n\u001b[0;32m--> 160\u001b[0;31m     \u001b[0mdelegate\u001b[0m \u001b[0;34m=\u001b[0m \u001b[0mDelegate\u001b[0m\u001b[0;34m(\u001b[0m\u001b[0mlibrary\u001b[0m\u001b[0;34m,\u001b[0m \u001b[0moptions\u001b[0m\u001b[0;34m)\u001b[0m\u001b[0;34m\u001b[0m\u001b[0;34m\u001b[0m\u001b[0m\n\u001b[0m\u001b[1;32m    161\u001b[0m   \u001b[0;32mexcept\u001b[0m \u001b[0mValueError\u001b[0m \u001b[0;32mas\u001b[0m \u001b[0me\u001b[0m\u001b[0;34m:\u001b[0m\u001b[0;34m\u001b[0m\u001b[0;34m\u001b[0m\u001b[0m\n",
      "\u001b[0;32m~/Github/pycoral-experiments/venv/lib/python3.8/site-packages/tflite_runtime/interpreter.py\u001b[0m in \u001b[0;36m__init__\u001b[0;34m(self, library, options)\u001b[0m\n\u001b[1;32m    118\u001b[0m     \u001b[0;32mif\u001b[0m \u001b[0mself\u001b[0m\u001b[0;34m.\u001b[0m\u001b[0m_delegate_ptr\u001b[0m \u001b[0;32mis\u001b[0m \u001b[0;32mNone\u001b[0m\u001b[0;34m:\u001b[0m\u001b[0;34m\u001b[0m\u001b[0;34m\u001b[0m\u001b[0m\n\u001b[0;32m--> 119\u001b[0;31m       \u001b[0;32mraise\u001b[0m \u001b[0mValueError\u001b[0m\u001b[0;34m(\u001b[0m\u001b[0mcapture\u001b[0m\u001b[0;34m.\u001b[0m\u001b[0mmessage\u001b[0m\u001b[0;34m)\u001b[0m\u001b[0;34m\u001b[0m\u001b[0;34m\u001b[0m\u001b[0m\n\u001b[0m\u001b[1;32m    120\u001b[0m \u001b[0;34m\u001b[0m\u001b[0m\n",
      "\u001b[0;31mValueError\u001b[0m: ",
      "\nDuring handling of the above exception, another exception occurred:\n",
      "\u001b[0;31mValueError\u001b[0m                                Traceback (most recent call last)",
      "\u001b[0;32m/var/folders/th/p79ctr092t9c_795pyl79n6c0000gn/T/ipykernel_15908/1704029394.py\u001b[0m in \u001b[0;36m<module>\u001b[0;34m\u001b[0m\n\u001b[1;32m      1\u001b[0m \u001b[0;31m# Initialize the TF interpreter\u001b[0m\u001b[0;34m\u001b[0m\u001b[0;34m\u001b[0m\u001b[0;34m\u001b[0m\u001b[0m\n\u001b[0;32m----> 2\u001b[0;31m \u001b[0minterpreter\u001b[0m \u001b[0;34m=\u001b[0m \u001b[0medgetpu\u001b[0m\u001b[0;34m.\u001b[0m\u001b[0mmake_interpreter\u001b[0m\u001b[0;34m(\u001b[0m\u001b[0mmodel_file\u001b[0m\u001b[0;34m)\u001b[0m\u001b[0;34m\u001b[0m\u001b[0;34m\u001b[0m\u001b[0m\n\u001b[0m\u001b[1;32m      3\u001b[0m \u001b[0minterpreter\u001b[0m\u001b[0;34m.\u001b[0m\u001b[0mallocate_tensors\u001b[0m\u001b[0;34m(\u001b[0m\u001b[0;34m)\u001b[0m\u001b[0;34m\u001b[0m\u001b[0;34m\u001b[0m\u001b[0m\n",
      "\u001b[0;32m~/Github/pycoral-experiments/venv/lib/python3.8/site-packages/pycoral/utils/edgetpu.py\u001b[0m in \u001b[0;36mmake_interpreter\u001b[0;34m(model_path_or_content, device, delegate)\u001b[0m\n\u001b[1;32m     85\u001b[0m     \u001b[0mdelegates\u001b[0m \u001b[0;34m=\u001b[0m \u001b[0;34m[\u001b[0m\u001b[0mdelegate\u001b[0m\u001b[0;34m]\u001b[0m\u001b[0;34m\u001b[0m\u001b[0;34m\u001b[0m\u001b[0m\n\u001b[1;32m     86\u001b[0m   \u001b[0;32melse\u001b[0m\u001b[0;34m:\u001b[0m\u001b[0;34m\u001b[0m\u001b[0;34m\u001b[0m\u001b[0m\n\u001b[0;32m---> 87\u001b[0;31m     \u001b[0mdelegates\u001b[0m \u001b[0;34m=\u001b[0m \u001b[0;34m[\u001b[0m\u001b[0mload_edgetpu_delegate\u001b[0m\u001b[0;34m(\u001b[0m\u001b[0;34m{\u001b[0m\u001b[0;34m'device'\u001b[0m\u001b[0;34m:\u001b[0m \u001b[0mdevice\u001b[0m\u001b[0;34m}\u001b[0m \u001b[0;32mif\u001b[0m \u001b[0mdevice\u001b[0m \u001b[0;32melse\u001b[0m \u001b[0;34m{\u001b[0m\u001b[0;34m}\u001b[0m\u001b[0;34m)\u001b[0m\u001b[0;34m]\u001b[0m\u001b[0;34m\u001b[0m\u001b[0;34m\u001b[0m\u001b[0m\n\u001b[0m\u001b[1;32m     88\u001b[0m   \u001b[0;32mif\u001b[0m \u001b[0misinstance\u001b[0m\u001b[0;34m(\u001b[0m\u001b[0mmodel_path_or_content\u001b[0m\u001b[0;34m,\u001b[0m \u001b[0mbytes\u001b[0m\u001b[0;34m)\u001b[0m\u001b[0;34m:\u001b[0m\u001b[0;34m\u001b[0m\u001b[0;34m\u001b[0m\u001b[0m\n\u001b[1;32m     89\u001b[0m     return tflite.Interpreter(\n",
      "\u001b[0;32m~/Github/pycoral-experiments/venv/lib/python3.8/site-packages/pycoral/utils/edgetpu.py\u001b[0m in \u001b[0;36mload_edgetpu_delegate\u001b[0;34m(options)\u001b[0m\n\u001b[1;32m     50\u001b[0m     \u001b[0mThe\u001b[0m \u001b[0mEdge\u001b[0m \u001b[0mTPU\u001b[0m \u001b[0mdelegate\u001b[0m \u001b[0mobject\u001b[0m\u001b[0;34m.\u001b[0m\u001b[0;34m\u001b[0m\u001b[0;34m\u001b[0m\u001b[0m\n\u001b[1;32m     51\u001b[0m   \"\"\"\n\u001b[0;32m---> 52\u001b[0;31m   \u001b[0;32mreturn\u001b[0m \u001b[0mtflite\u001b[0m\u001b[0;34m.\u001b[0m\u001b[0mload_delegate\u001b[0m\u001b[0;34m(\u001b[0m\u001b[0m_EDGETPU_SHARED_LIB\u001b[0m\u001b[0;34m,\u001b[0m \u001b[0moptions\u001b[0m \u001b[0;32mor\u001b[0m \u001b[0;34m{\u001b[0m\u001b[0;34m}\u001b[0m\u001b[0;34m)\u001b[0m\u001b[0;34m\u001b[0m\u001b[0;34m\u001b[0m\u001b[0m\n\u001b[0m\u001b[1;32m     53\u001b[0m \u001b[0;34m\u001b[0m\u001b[0m\n\u001b[1;32m     54\u001b[0m \u001b[0;34m\u001b[0m\u001b[0m\n",
      "\u001b[0;32m~/Github/pycoral-experiments/venv/lib/python3.8/site-packages/tflite_runtime/interpreter.py\u001b[0m in \u001b[0;36mload_delegate\u001b[0;34m(library, options)\u001b[0m\n\u001b[1;32m    160\u001b[0m     \u001b[0mdelegate\u001b[0m \u001b[0;34m=\u001b[0m \u001b[0mDelegate\u001b[0m\u001b[0;34m(\u001b[0m\u001b[0mlibrary\u001b[0m\u001b[0;34m,\u001b[0m \u001b[0moptions\u001b[0m\u001b[0;34m)\u001b[0m\u001b[0;34m\u001b[0m\u001b[0;34m\u001b[0m\u001b[0m\n\u001b[1;32m    161\u001b[0m   \u001b[0;32mexcept\u001b[0m \u001b[0mValueError\u001b[0m \u001b[0;32mas\u001b[0m \u001b[0me\u001b[0m\u001b[0;34m:\u001b[0m\u001b[0;34m\u001b[0m\u001b[0;34m\u001b[0m\u001b[0m\n\u001b[0;32m--> 162\u001b[0;31m     raise ValueError('Failed to load delegate from {}\\n{}'.format(\n\u001b[0m\u001b[1;32m    163\u001b[0m         library, str(e)))\n\u001b[1;32m    164\u001b[0m   \u001b[0;32mreturn\u001b[0m \u001b[0mdelegate\u001b[0m\u001b[0;34m\u001b[0m\u001b[0;34m\u001b[0m\u001b[0m\n",
      "\u001b[0;31mValueError\u001b[0m: Failed to load delegate from libedgetpu.1.dylib\n"
     ]
    }
   ],
   "source": [
    "# Initialize the TF interpreter\n",
    "interpreter = edgetpu.make_interpreter(model_file)\n",
    "interpreter.allocate_tensors()"
   ]
  },
  {
   "cell_type": "code",
   "execution_count": null,
   "id": "167548f9-4e7d-48bf-a111-8de56685b401",
   "metadata": {},
   "outputs": [],
   "source": [
    "# Resize the image\n",
    "size = common.input_size(interpreter)\n",
    "image = Image.open(image_file).convert('RGB').resize(size, Image.ANTIALIAS)\n",
    "\n",
    "# Run an inference\n",
    "common.set_input(interpreter, image)\n",
    "interpreter.invoke()\n",
    "classes = classify.get_classes(interpreter, top_k=1)\n",
    "\n",
    "# Print the result\n",
    "labels = dataset.read_label_file(label_file)\n",
    "for c in classes:\n",
    "  print('%s: %.5f' % (labels.get(c.id, c.id), c.score))"
   ]
  }
 ],
 "metadata": {
  "kernelspec": {
   "display_name": "Python 3 (ipykernel)",
   "language": "python",
   "name": "python3"
  },
  "language_info": {
   "codemirror_mode": {
    "name": "ipython",
    "version": 3
   },
   "file_extension": ".py",
   "mimetype": "text/x-python",
   "name": "python",
   "nbconvert_exporter": "python",
   "pygments_lexer": "ipython3",
   "version": "3.8.5"
  }
 },
 "nbformat": 4,
 "nbformat_minor": 5
}
